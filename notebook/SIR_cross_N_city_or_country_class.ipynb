{
 "cells": [
  {
   "cell_type": "markdown",
   "metadata": {},
   "source": [
    "### Lets add city/country propogation to the simple SIR model"
   ]
  },
  {
   "cell_type": "markdown",
   "metadata": {},
   "source": [
    "## model :"
   ]
  },
  {
   "cell_type": "markdown",
   "metadata": {},
   "source": [
    "Lets model a situation with N countries that are connected via border or flight rode ."
   ]
  },
  {
   "cell_type": "markdown",
   "metadata": {},
   "source": [
    "let $I_i(t)$ be the proportion of infected persons,\n",
    "\n",
    "$S_i(t)$ the proportion of healthy person, \n",
    "\n",
    "and $R_i(t)$ the proportion of recovered person\n",
    "\n",
    "for $i \\in \\{1,...,N\\}$"
   ]
  },
  {
   "cell_type": "markdown",
   "metadata": {},
   "source": [
    "The cross countires SIR model is :\n",
    "\n",
    "$S_i'(t) = -S_i(t)*[U_{i.}\\cdot I_j ] $ <br/>\n",
    "$I_i'(t) = -S_i(t)*[U_{i.}\\cdot I_j ] - I(t)/\\lambda $ <br/>\n",
    "$R_i'(t) = I(t)/\\lambda $\n",
    "\n",
    "for $i \\in \\{1,...,N\\}$\n",
    "\n",
    "that is equivalent to the 3-dimensional following equation :\n",
    "\n",
    "$S'(t) = -S(t)\\otimes [U \\cdot I ] $ <br/>\n",
    "$I'(t) = S(t)\\otimes [U \\cdot I ]  - \\lambda^{-1}I(t)$ <br/>\n",
    "$R'(t) = \\lambda^{-1}I(t)$ <br/>\n",
    "\n",
    "\n",
    "note that the differential system has still a **null divergence** \n",
    "\n",
    "\n",
    "where \n",
    "\n",
    "\\begin{equation*}\n",
    "U= \n",
    "\\begin{pmatrix}\n",
    "    \\beta & & \\\\\n",
    "    & \\ddots & \\\\\n",
    "    & & \\beta\n",
    "\\end{pmatrix}\n",
    "\\end{equation*}"
   ]
  },
  {
   "cell_type": "markdown",
   "metadata": {},
   "source": [
    "Let $Y_i(t) \\in R^3$ the following vector :\n",
    "$$Y_i(t) = (S_i(t),I_i(t),R_i(t))^\\top , i \\in \\{1,...,N\\}$ $$ \n",
    "\n",
    "and \n",
    "$$Y_{i_0}(0) = (1 -\\epsilon,\\epsilon,0)^\\top$$\n",
    "\n",
    "\n",
    "\n",
    "where $i_0\n",
    "\n",
    "$  \\frac{1}{N_{individus}} \\le \\epsilon \\le 1 $\n",
    "\n",
    "and \n",
    "$$Y_1(0) = (1,0,0)^\\top$$\n",
    "\n",
    "i.e : there are no infected people yet in France and at least one case in Italy"
   ]
  },
  {
   "cell_type": "markdown",
   "metadata": {},
   "source": [
    "## Lets code"
   ]
  },
  {
   "cell_type": "code",
   "execution_count": 6,
   "metadata": {},
   "outputs": [],
   "source": [
    "import numpy as np\n",
    "import matplotlib.pyplot as plt\n",
    "import scipy.integrate as integrate\n",
    "import os\n",
    "os.chdir(os.path.expanduser(\"..\"))\n",
    "from src.packages.models.SIR_models import base_sri_model"
   ]
  },
  {
   "cell_type": "code",
   "execution_count": 7,
   "metadata": {
    "scrolled": true
   },
   "outputs": [],
   "source": [
    "import itertools\n",
    "class cross_SIR(base_sri_model):\n",
    "    '''\n",
    "    this class in a subclass of base_sri_model.\n",
    "    \n",
    "    It implement the cross-SRI model to generalize the SRI model to multy-country implementation \n",
    "    via a matrix of propgation of virus.\n",
    "    \n",
    "    param:\n",
    "    \n",
    "    * labels : the same label as in SRI-class\n",
    "    * countries : a list of countries name\n",
    "    * U : a square matrix\n",
    "    * y0_infected : the init value for infected coutries generaly [1-e,e,0] with e<<1\n",
    "    * y0_not_infected :the init value for not infected coutries generaly [1,0,0] \n",
    "    \n",
    "    \n",
    "    '''\n",
    "    labels=[\"healthy\",\"infected\",\"recovered\"]\n",
    "    countries = [\"fr\",\"it\"] #countries or cities\n",
    "    # cross labels will be generate at class creation\n",
    "    a = 10\n",
    "    beta=1\n",
    "    U = beta*np.eye(len(countries))\n",
    "    epsilon = 1e-2\n",
    "    y0_infected = np.array([1-epsilon,epsilon,0])\n",
    "    y0_not_infected = np.array([1,0,0])\n",
    "    index_countries_infected = np.array([countries.index(\"it\")])\n",
    "    \n",
    "    def __init__(self,delimiter=\"_\"):\n",
    "        super().__init__()\n",
    "        if not(self.U.shape == (len(self.countries),len(self.countries))) :\n",
    "               raise ValueError(f\" U matrix has not the right shape: {self.U.shape} for {len(self.countries)} countries \")\n",
    "        \n",
    "        \n",
    "        if not( (len(self.labels),) == self.y0_infected.shape ) :\n",
    "            raise ValueError(f\" the y0 per countrie vector {self.y0_infected} does not match the number of labels {len(self.labels)}  \")\n",
    "\n",
    "        self.true_labels = [label for label in self.labels] #original labels value\n",
    "        self.labels= [ f\"{country}{delimiter}{label}\" for label,country in itertools.product(self.labels,self.countries)]\n",
    "           \n",
    "            \n",
    "        \n",
    "        self.y0 = np.repeat(1,len(self.true_labels))\n",
    "        \n",
    "        self.y0 = np.array([])\n",
    "        for x in self.y0_not_infected:   \n",
    "            class_x = np.repeat(x,len(self.countries))\n",
    "            self.y0 = np.append(self.y0,class_x)\n",
    "            \n",
    "        for k,x in enumerate(self.y0_infected):\n",
    "            for i in self.index_countries_infected:\n",
    "                self.y0[k*len(self.countries)+i] = x\n",
    "                \n",
    "            \n",
    "        \n",
    "    def edp_model(self,t,y):\n",
    "        S = np.array(y[0:len(self.countries)], copy=False)\n",
    "        I = np.array(y[len(self.countries):2*len(self.countries)], copy=False)\n",
    "        R = np.array(y[2*len(self.countries):3*len(self.countries)], copy=False)\n",
    "    \n",
    "        S = -S*(self.U@I) \n",
    "        R = I/self.a\n",
    "        I = -S - R\n",
    "        \n",
    "        dydt = np.append(S,I)\n",
    "        dydt = np.append(dydt,R)\n",
    "        return dydt"
   ]
  },
  {
   "cell_type": "code",
   "execution_count": 10,
   "metadata": {},
   "outputs": [
    {
     "ename": "ModuleNotFoundError",
     "evalue": "No module named 'SIR_models'",
     "output_type": "error",
     "traceback": [
      "\u001b[0;31m---------------------------------------------------------------------------\u001b[0m",
      "\u001b[0;31mModuleNotFoundError\u001b[0m                       Traceback (most recent call last)",
      "\u001b[0;32m<ipython-input-10-f905631ca133>\u001b[0m in \u001b[0;36m<module>\u001b[0;34m\u001b[0m\n\u001b[0;32m----> 1\u001b[0;31m \u001b[0;32mfrom\u001b[0m \u001b[0msrc\u001b[0m\u001b[0;34m.\u001b[0m\u001b[0mpackages\u001b[0m\u001b[0;34m.\u001b[0m\u001b[0mmodels\u001b[0m\u001b[0;34m.\u001b[0m\u001b[0mcross_SIR_models\u001b[0m \u001b[0;32mimport\u001b[0m \u001b[0mcross_SIR\u001b[0m\u001b[0;34m\u001b[0m\u001b[0;34m\u001b[0m\u001b[0m\n\u001b[0m",
      "\u001b[0;32m~/Documents/workspace/ml/corona_simu_project/corona_simu/src/packages/models/cross_SIR_models.py\u001b[0m in \u001b[0;36m<module>\u001b[0;34m\u001b[0m\n\u001b[1;32m      1\u001b[0m \u001b[0;32mimport\u001b[0m \u001b[0mnumpy\u001b[0m \u001b[0;32mas\u001b[0m \u001b[0mnp\u001b[0m\u001b[0;34m\u001b[0m\u001b[0;34m\u001b[0m\u001b[0m\n\u001b[0;32m----> 2\u001b[0;31m \u001b[0;32mfrom\u001b[0m \u001b[0mSIR_models\u001b[0m \u001b[0;32mimport\u001b[0m \u001b[0mbase_sri_model\u001b[0m\u001b[0;34m\u001b[0m\u001b[0;34m\u001b[0m\u001b[0m\n\u001b[0m\u001b[1;32m      3\u001b[0m \u001b[0mSIR_models\u001b[0m \u001b[0;34m=\u001b[0m \u001b[0mimportlib\u001b[0m\u001b[0;34m.\u001b[0m\u001b[0mimport_module\u001b[0m\u001b[0;34m(\u001b[0m\u001b[0;34m\"SIR_models\"\u001b[0m\u001b[0;34m)\u001b[0m\u001b[0;34m\u001b[0m\u001b[0;34m\u001b[0m\u001b[0m\n\u001b[1;32m      4\u001b[0m \u001b[0;34m\u001b[0m\u001b[0m\n\u001b[1;32m      5\u001b[0m \u001b[0;32mimport\u001b[0m \u001b[0mitertools\u001b[0m\u001b[0;34m\u001b[0m\u001b[0;34m\u001b[0m\u001b[0m\n",
      "\u001b[0;31mModuleNotFoundError\u001b[0m: No module named 'SIR_models'"
     ]
    }
   ],
   "source": [
    "from src.packages.models.cross_SIR_models import cross_SIR"
   ]
  },
  {
   "cell_type": "code",
   "execution_count": null,
   "metadata": {},
   "outputs": [],
   "source": [
    "class cross_SIR_fr_it(cross_SIR):\n",
    "    labels=[\"healthy\",\"infected\",\"recovered\"]\n",
    "    countries = [\"fr\",\"it\"] #countries or cities\n",
    "    # cross labels will be generate at class creation\n",
    "    a = 10\n",
    "    beta=1\n",
    "    U = beta*np.eye(len(countries))\n",
    "    flux_cross_both_contries=0.001\n",
    "    \n",
    "    U[0,1]=flux_cross_both_contries\n",
    "    U[1,0]=flux_cross_both_contries\n",
    "    \n",
    "    epsilon = 1e-2\n",
    "    y0_infected = np.array([1-epsilon,epsilon,0])\n",
    "    \n",
    "    y0_not_infected = np.array([1,0,0])\n",
    "    index_countries_infected = np.array([countries.index(\"it\")])\n",
    "    t_max = 50\n",
    "    \n",
    "e = cross_SIR_fr_it()"
   ]
  },
  {
   "cell_type": "code",
   "execution_count": null,
   "metadata": {},
   "outputs": [],
   "source": [
    "e.simulate()"
   ]
  },
  {
   "cell_type": "code",
   "execution_count": null,
   "metadata": {},
   "outputs": [],
   "source": []
  }
 ],
 "metadata": {
  "kernelspec": {
   "display_name": "corona-env",
   "language": "python",
   "name": "corona-env"
  },
  "language_info": {
   "codemirror_mode": {
    "name": "ipython",
    "version": 3
   },
   "file_extension": ".py",
   "mimetype": "text/x-python",
   "name": "python",
   "nbconvert_exporter": "python",
   "pygments_lexer": "ipython3",
   "version": "3.8.1"
  }
 },
 "nbformat": 4,
 "nbformat_minor": 2
}
