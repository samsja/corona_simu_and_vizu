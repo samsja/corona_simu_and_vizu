{
 "cells": [
  {
   "cell_type": "markdown",
   "metadata": {},
   "source": [
    "### Lets add city/country propogation to the  SIER model"
   ]
  },
  {
   "cell_type": "markdown",
   "metadata": {},
   "source": [
    "## model :"
   ]
  },
  {
   "cell_type": "markdown",
   "metadata": {},
   "source": [
    "Lets model a situation with N countries that are connected via border or flight rode ."
   ]
  },
  {
   "cell_type": "markdown",
   "metadata": {},
   "source": [
    "let \n",
    "\n",
    "$I_i(t)$ be the proportion of infected persons,\n",
    "\n",
    "$S_i(t)$ the proportion of healthy person, \n",
    "\n",
    "$R_i(t)$ the proportion of recovered person,\n",
    "\n",
    "$D_i(t)$ the number of death,\n",
    "\n",
    "$C_i(t)$ the number of of people who are infected but not sick yet (in incubation)\n",
    "\n",
    "for $i \\in \\{1,...,N\\}$"
   ]
  },
  {
   "cell_type": "markdown",
   "metadata": {},
   "source": [
    "The cross countires SIR model is :\n",
    "\n",
    "$S_i'(t) = -S_i(t)*[U_{i.}\\cdot ( I_j  + C_j)] $ <br/>\n",
    "$C_i'(t) = -S_i(t)*[U_{i.}\\cdot (I_j + C_j ] - C_i(t)/\\nu$ <br/>\n",
    "$I_i'(t) = C_i/\\nu - I_i(t)*(\\lambda^{-1} + \\mu) $ <br/>\n",
    "$R_i'(t) = I_i(t)/\\lambda $ <br/>\n",
    "$D_i'(t) = \\mu*I_i(t)$\n",
    "\n",
    "\n",
    "for $i \\in \\{1,...,N\\}$\n",
    "\n",
    "that is equivalent to the 3-dimensional following equation :\n",
    "\n",
    "$S'(t) = -S(t)\\otimes [U \\cdot (I+C) ] $ <br/>\n",
    "$C'(t) = S(t)\\otimes [U \\cdot (I+C) ]- C(t)/\\nu  $ <br/>\n",
    "$I'(t) = C/\\nu - I(t)*(\\lambda^{-1} + \\mu) $ <br/>\n",
    "$R'(t) = I(t)/\\lambda $ <br/>\n",
    "$D'(t) = \\mu*I(t)$\n",
    "\n",
    "\n",
    "note that the differential system has still a **null divergence** \n",
    "\n",
    "\n",
    "where \n",
    "\n",
    "\\begin{equation*}\n",
    "U= \n",
    "\\begin{pmatrix}\n",
    "    \\beta & & \\\\\n",
    "    & \\ddots & \\\\\n",
    "    & & \\beta\n",
    "\\end{pmatrix}\n",
    "\\end{equation*}"
   ]
  },
  {
   "cell_type": "markdown",
   "metadata": {},
   "source": [
    "Let $Y_i(t) \\in R^3$ the following vector :\n",
    "$$Y_i(t) = (S_i(t),I_i(t),R_i(t),C_i(t),D_i(t) )^\\top , i \\in \\{1,...,N\\}$ $$ \n",
    "\n",
    "and \n",
    "$$Y_{i_0}(0) = (1 -\\epsilon,\\epsilon,0,0,0)^\\top$$\n",
    "\n",
    "\n",
    "\n",
    "where $i_0$ is the indice of the first infected country\n",
    "\n",
    "$  \\frac{1}{N_{individus}} \\le \\epsilon \\le 1 $\n",
    "\n",
    "and \n",
    "$$Y_1(0) = (1,0,0,0,0)^\\top$$\n",
    "\n",
    "i.e : there are no infected people yet in France and at least one case in Italy"
   ]
  },
  {
   "cell_type": "markdown",
   "metadata": {},
   "source": [
    "## Lets code"
   ]
  },
  {
   "cell_type": "code",
   "execution_count": 1,
   "metadata": {},
   "outputs": [],
   "source": [
    "import numpy as np\n",
    "import matplotlib.pyplot as plt\n",
    "import scipy.integrate as integrate\n",
    "import os\n",
    "os.chdir(os.path.expanduser(\"..\"))\n",
    "from src.packages.models.SIR_models import base_sri_model"
   ]
  },
  {
   "cell_type": "code",
   "execution_count": 2,
   "metadata": {},
   "outputs": [],
   "source": [
    "from src.packages.models.cross_SIR_models import cross_SIRCD"
   ]
  },
  {
   "cell_type": "code",
   "execution_count": 3,
   "metadata": {},
   "outputs": [],
   "source": [
    "class cross_SIRCD_france(cross_SIRCD):\n",
    "    countries = [\"Paris\",\"Compiegne\",\"Marseille\",\"Toulouse\",\"Nice\",\"Nantes\",\"Montpellier\",\"Strasbourg\"] #countries or cities\n",
    "\n",
    "    # cross labels will be generate at class creation\n",
    "    a = 10\n",
    "    beta=1\n",
    "    v = 3\n",
    "    mu = 0.05\n",
    "    \n",
    "    U = beta*np.eye(len(countries))\n",
    "    \n",
    "    U[:,countries.index(\"Paris\")]=0.05\n",
    "    U[countries.index(\"Paris\"),countries.index(\"Paris\")] = 1\n",
    "    \n",
    "    U = U + U.T - np.diag(np.diag(U)) #diagonalize\n",
    "     \n",
    "\n",
    "    index_countries_infected = np.array([countries.index(\"Compiegne\")])\n",
    "    t_max = 30\n",
    "    \n",
    "\n",
    "e = cross_SIRCD_france()"
   ]
  },
  {
   "cell_type": "code",
   "execution_count": null,
   "metadata": {
    "scrolled": true
   },
   "outputs": [],
   "source": [
    "e.simulate()"
   ]
  },
  {
   "cell_type": "code",
   "execution_count": null,
   "metadata": {},
   "outputs": [],
   "source": [
    "e._show_simu_results(countries_to_show=[\"Compiegne\"],labels_to_show=[\"all\"])"
   ]
  }
 ],
 "metadata": {
  "kernelspec": {
   "display_name": "corona-env",
   "language": "python",
   "name": "corona-env"
  },
  "language_info": {
   "codemirror_mode": {
    "name": "ipython",
    "version": 3
   },
   "file_extension": ".py",
   "mimetype": "text/x-python",
   "name": "python",
   "nbconvert_exporter": "python",
   "pygments_lexer": "ipython3",
   "version": "3.8.1"
  }
 },
 "nbformat": 4,
 "nbformat_minor": 2
}
