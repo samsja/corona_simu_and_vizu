{
 "cells": [
  {
   "cell_type": "markdown",
   "metadata": {},
   "source": [
    "# Epidimc simulation"
   ]
  },
  {
   "cell_type": "markdown",
   "metadata": {},
   "source": [
    "## Basic Model"
   ]
  },
  {
   "cell_type": "markdown",
   "metadata": {},
   "source": [
    "let $I(t)$ be the proportion of infected persons,\n",
    "\n",
    "$S(t)$ the proportion of healthy person, \n",
    "\n",
    "and $R(t)$ the proportion of recovered person\n"
   ]
  },
  {
   "cell_type": "markdown",
   "metadata": {},
   "source": [
    "The first basic model is :\n",
    "\n",
    "$S'(t) = - \\beta *S(t)*I(t) $ <br/>\n",
    "$I'(t) = \\beta *S(t)*I(t) - 1/\\lambda * I(t) $ <br/>\n",
    "$R'(t) = 1/\\lambda * I(t) $\n",
    "\n",
    "\n",
    "note that the differential system has a **null divergence**\n",
    "\n"
   ]
  },
  {
   "cell_type": "markdown",
   "metadata": {},
   "source": [
    "Let $Y(t) \\in R^3$ the following vector :\n",
    "$$Y(t) = (S(t),I(t),R(t))^\\top$$\n",
    "and \n",
    "$$Y(0) = (1 - \\epsilon ,\\epsilon,0)^\\top$$\n",
    "\n",
    "where $  \\frac{1}{N_{individus}} \\le \\epsilon \\le 1 $\n"
   ]
  },
  {
   "cell_type": "markdown",
   "metadata": {},
   "source": [
    "# Lets code"
   ]
  },
  {
   "cell_type": "code",
   "execution_count": 3,
   "metadata": {
    "scrolled": true
   },
   "outputs": [],
   "source": [
    "import numpy as np\n",
    "import matplotlib.pyplot as plt\n",
    "import scipy.integrate as integrate\n",
    "import os\n",
    "os.chdir(os.path.expanduser(\"..\"))\n",
    "from src.packages.models.SIR_models import base_sri_model"
   ]
  },
  {
   "cell_type": "markdown",
   "metadata": {},
   "source": [
    "## resolution example"
   ]
  },
  {
   "cell_type": "code",
   "execution_count": null,
   "metadata": {},
   "outputs": [],
   "source": [
    "class first_epi_model(base_sri_model):\n",
    "    labels=[\"healthy\",\"infected\",\"recovered\"]\n",
    "    epsilon=1e-2\n",
    "    a= 0.7 # infection\n",
    "    b=3 # recovering capatibility\n",
    "    t_max=20\n",
    "    y0 = np.array([1-epsilon,epsilon,0])\n",
    "\n",
    "    def edp_model(self,t,y):\n",
    "        inf_p = self.b*y[0]*y[1] #infected_people \n",
    "        r_p = 1/self.a * y[1]\n",
    "\n",
    "        dydt = np.array([-inf_p,inf_p-r_p,r_p])\n",
    "        return dydt\n",
    "       \n",
    "e = first_epi_model()\n",
    "e.simulate()"
   ]
  },
  {
   "cell_type": "markdown",
   "metadata": {},
   "source": [
    "# Advance model"
   ]
  },
  {
   "cell_type": "markdown",
   "metadata": {},
   "source": [
    "lets add $D(t)$ the number of death"
   ]
  },
  {
   "cell_type": "markdown",
   "metadata": {},
   "source": [
    "the system is now :  <br/>\n",
    "$S'(t) = - \\beta *S(t)*I(t) $ <br/>\n",
    "$I'(t) = \\beta *S(t)*I(t) - 1/\\lambda * I(t)  - \\mu*I(t)$ <br/>\n",
    "$R'(t) = 1/\\lambda* I(t) $ <br/>\n",
    "$D'(t) = \\mu*I(t)$\n",
    "\n",
    "and \n",
    "\n",
    "$$Y(t) = (S(t),I(t),R(t),D(t))^\\top$$\n"
   ]
  },
  {
   "cell_type": "code",
   "execution_count": null,
   "metadata": {},
   "outputs": [],
   "source": [
    "class second_epi_model(base_sri_model):\n",
    "    labels=[\"healthy\",\"infected\",\"recovered\",\"dead\"]    \n",
    "    epsilon=1e-2\n",
    "    a=3\n",
    "    b=3\n",
    "    mu = 0.1\n",
    "    t_max=20\n",
    "    y0 = np.array([1-epsilon,epsilon,0,0])\n",
    "    \n",
    "    def edp_model(self,t,y):\n",
    "\n",
    "        infected = self.b*y[0]*y[1] #infected_people \n",
    "        recovered = 1/self.a * y[1]\n",
    "\n",
    "        dead =self.mu*y[1]\n",
    "\n",
    "        dydt = np.array([-infected , infected-recovered - dead , recovered,dead])\n",
    "\n",
    "        return dydt\n",
    "    \n",
    "e = second_epi_model()\n",
    "e.simulate()"
   ]
  },
  {
   "cell_type": "markdown",
   "metadata": {},
   "source": [
    "# incubation period"
   ]
  },
  {
   "cell_type": "markdown",
   "metadata": {},
   "source": [
    "lets add $C(t)$ the number of of people who are infected but not sick yet"
   ]
  },
  {
   "cell_type": "markdown",
   "metadata": {},
   "source": [
    "the system is now :  <br/>\n",
    "$S'(t) = - \\beta *S(t)*I(t) $ <br/>\n",
    "$C'(t) = \\beta *S(t)*I(t) - C/\\nu $ <br/>\n",
    "$I'(t) = C/\\nu - 1/\\lambda * I(t) $ <br/>\n",
    "$R'(t) = 1/\\lambda* I(t) $ <br/>\n",
    "$D'(t) = \\mu*I(t)$\n",
    "\n",
    "and \n",
    "\n",
    "$$Y(t) = (S(t),I(t),R(t),D(t),C(t))^\\top$$"
   ]
  },
  {
   "cell_type": "code",
   "execution_count": null,
   "metadata": {},
   "outputs": [],
   "source": [
    "class third_epi_model(base_sri_model):\n",
    "    labels=[\"healthy\",\"infected\",\"recovered\",\"dead\",\"in_incubation\"]   \n",
    "    epsilon=1e-2\n",
    "    a=10\n",
    "    b=3\n",
    "    mu = 0.2\n",
    "    v= 3\n",
    "    t_max=40\n",
    "    y0 = np.array([1-epsilon,epsilon,0,0,0])\n",
    "    v= 3\n",
    "\n",
    "    \n",
    "    def edp_model(self,t,y):\n",
    "\n",
    "        infected = self.b*y[0]*y[1] #infected_people \n",
    "        recovered = 1/self.a * y[1]\n",
    "\n",
    "        dead =self.mu*y[1]\n",
    "        sick = y[4]/self.v\n",
    "\n",
    "        dydt = np.array([-infected ,sick-recovered - dead , recovered,dead,-sick+infected])\n",
    "\n",
    "        return dydt\n",
    "    \n",
    "e = third_epi_model()\n",
    "e.simulate()"
   ]
  }
 ],
 "metadata": {
  "kernelspec": {
   "display_name": "Python 3",
   "language": "python",
   "name": "python3"
  },
  "language_info": {
   "codemirror_mode": {
    "name": "ipython",
    "version": 3
   },
   "file_extension": ".py",
   "mimetype": "text/x-python",
   "name": "python",
   "nbconvert_exporter": "python",
   "pygments_lexer": "ipython3",
   "version": "3.7.4"
  }
 },
 "nbformat": 4,
 "nbformat_minor": 2
}
