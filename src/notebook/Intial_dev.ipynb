{
 "cells": [
  {
   "cell_type": "markdown",
   "metadata": {},
   "source": [
    "# Epidimc simulation"
   ]
  },
  {
   "cell_type": "markdown",
   "metadata": {},
   "source": [
    "## Model"
   ]
  },
  {
   "cell_type": "markdown",
   "metadata": {},
   "source": [
    "let $I(t)$ be the proportion of infected persons,\n",
    "\n",
    "$S(t)$ the proportion of healthy person, \n",
    "\n",
    "and $R(t)$ the proportion of recovered person\n"
   ]
  },
  {
   "cell_type": "markdown",
   "metadata": {},
   "source": [
    "The first basic model is :\n",
    "\n",
    "$S'(t) = - \\beta *S(t)*I(t) $ <br/>\n",
    "$I'(t) = \\beta *S(t)*I(t) - 1/\\lambda * I(t) $ <br/>\n",
    "$R'(t) = 1/\\lambda * I(t) $\n",
    "\n",
    "\n",
    "note that the differential system has a **null divergence**\n",
    "\n"
   ]
  },
  {
   "cell_type": "markdown",
   "metadata": {},
   "source": [
    "Let $Y(t) \\in R^3$ the following vector :\n",
    "$$Y(t) = (S(t),I(t),R(t))^\\top$$\n",
    "and \n",
    "$$Y(0) = (1,\\epsilon,0)^\\top$$\n",
    "\n",
    "where $  \\frac{1}{N_{individus}} \\le \\epsilon \\le 1 $\n"
   ]
  },
  {
   "cell_type": "markdown",
   "metadata": {},
   "source": [
    "# Lets code"
   ]
  },
  {
   "cell_type": "markdown",
   "metadata": {},
   "source": [
    "## resolution example"
   ]
  },
  {
   "cell_type": "code",
   "execution_count": null,
   "metadata": {},
   "outputs": [],
   "source": [
    "import numpy as np\n",
    "import matplotlib.pyplot as plt\n",
    "import scipy.integrate as integrate"
   ]
  },
  {
   "cell_type": "code",
   "execution_count": null,
   "metadata": {},
   "outputs": [],
   "source": [
    "def first_model(t,y,a,b):\n",
    "    \n",
    "    inf_p = b*y[0]*y[1] #infected_people \n",
    "    r_p = 1/a * y[1]\n",
    "    \n",
    "    dydt = np.array([-inf_p,inf_p-r_p,r_p])\n",
    "    return dydt\n",
    "\n",
    "y0_first_model = np.array([1,1e-2,0])\n",
    "\n",
    "labels=[\"healthy\",\"infected\",\"recovered\"]"
   ]
  },
  {
   "cell_type": "code",
   "execution_count": null,
   "metadata": {},
   "outputs": [],
   "source": [
    "def show_simu_results(sol,labels):\n",
    "    fig, ax = plt.subplots(figsize=(14, 5))\n",
    "    ax.set_xlabel('time [day]')\n",
    "    ax.set_ylabel('population proportion []')\n",
    "\n",
    "    for i in range(len(sol.y)):\n",
    "        ax.plot(sol.t,sol.y[i],label=labels[i])\n",
    "\n",
    "    plt.legend()"
   ]
  },
  {
   "cell_type": "code",
   "execution_count": null,
   "metadata": {
    "scrolled": true
   },
   "outputs": [],
   "source": [
    "epsilon=1e-2\n",
    "a=0.5\n",
    "b=3\n",
    "t_max=20\n",
    "\n",
    "f = lambda t,y:first_model(t,y,a,b)\n",
    "y0= np.array([1,epsilon,0])\n",
    "sol = integrate.solve_ivp(f, [0,t_max], y0,rtol=1e-10)  \n",
    "\n",
    "show_simu_results(sol,labels)"
   ]
  },
  {
   "cell_type": "markdown",
   "metadata": {},
   "source": [
    "## interactive plot"
   ]
  },
  {
   "cell_type": "code",
   "execution_count": null,
   "metadata": {},
   "outputs": [],
   "source": [
    "%matplotlib notebook\n",
    "from ipywidgets import interact\n",
    "\n",
    "\n",
    "fig, ax = plt.subplots(figsize=(5, 3))\n",
    "ax.set_xlabel('time [day]')\n",
    "ax.set_ylabel('population proportion []')\n",
    "\n",
    "lines= []\n",
    "\n",
    "for i in range(len(sol.y)):\n",
    "    line, =ax.plot(sol.t,sol.y[i],label=labels[i])\n",
    "    lines.append(line)\n",
    "\n",
    "\n",
    "def update(a = 0.5):\n",
    "    \n",
    "    sol =get_simu_results(a=a)\n",
    "    \n",
    "    for i in range(len(lines)):\n",
    "        lines[i].set_ydata(sol.y[i])\n",
    "    \n",
    "    \n",
    "    fig.canvas.draw_idle()\n",
    "\n",
    "interact(update);"
   ]
  }
 ],
 "metadata": {
  "kernelspec": {
   "display_name": "Python 3",
   "language": "python",
   "name": "python3"
  },
  "language_info": {
   "codemirror_mode": {
    "name": "ipython",
    "version": 3
   },
   "file_extension": ".py",
   "mimetype": "text/x-python",
   "name": "python",
   "nbconvert_exporter": "python",
   "pygments_lexer": "ipython3",
   "version": "3.7.4"
  }
 },
 "nbformat": 4,
 "nbformat_minor": 2
}
